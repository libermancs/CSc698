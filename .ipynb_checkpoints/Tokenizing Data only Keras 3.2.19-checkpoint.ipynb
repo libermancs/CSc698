{
 "cells": [
  {
   "cell_type": "code",
   "execution_count": 1,
   "metadata": {},
   "outputs": [
    {
     "name": "stderr",
     "output_type": "stream",
     "text": [
      "Using TensorFlow backend.\n"
     ]
    }
   ],
   "source": [
    "import pandas as pd\n",
    "import numpy as np\n",
    "import matplotlib.pyplot as plt\n",
    "import seaborn as sns\n",
    "import nltk\n",
    "from nltk.corpus import stopwords\n",
    "from keras.preprocessing.text import text_to_word_sequence\n",
    "from sklearn.feature_extraction.text import CountVectorizer"
   ]
  },
  {
   "cell_type": "code",
   "execution_count": 2,
   "metadata": {},
   "outputs": [],
   "source": [
    "reviews = pd.read_csv('Reviews.csv')"
   ]
  },
  {
   "cell_type": "code",
   "execution_count": 3,
   "metadata": {},
   "outputs": [
    {
     "data": {
      "text/html": [
       "<div>\n",
       "<style scoped>\n",
       "    .dataframe tbody tr th:only-of-type {\n",
       "        vertical-align: middle;\n",
       "    }\n",
       "\n",
       "    .dataframe tbody tr th {\n",
       "        vertical-align: top;\n",
       "    }\n",
       "\n",
       "    .dataframe thead th {\n",
       "        text-align: right;\n",
       "    }\n",
       "</style>\n",
       "<table border=\"1\" class=\"dataframe\">\n",
       "  <thead>\n",
       "    <tr style=\"text-align: right;\">\n",
       "      <th></th>\n",
       "      <th>Timestamp</th>\n",
       "      <th>How would you score the class</th>\n",
       "      <th>Explain why you gave that score? (What is good about the class? What is bad about the class? What could make the class better?)</th>\n",
       "      <th>Polarity (-1, 0, 1)</th>\n",
       "      <th>Suggestions (0 or 1)</th>\n",
       "      <th>Suggestions</th>\n",
       "      <th>Flag (0 1)</th>\n",
       "      <th>Flag Data</th>\n",
       "    </tr>\n",
       "  </thead>\n",
       "  <tbody>\n",
       "    <tr>\n",
       "      <th>0</th>\n",
       "      <td>2/15/2019 13:42:01</td>\n",
       "      <td>1</td>\n",
       "      <td>we suck.                                      ...</td>\n",
       "      <td>NaN</td>\n",
       "      <td>NaN</td>\n",
       "      <td>NaN</td>\n",
       "      <td>NaN</td>\n",
       "      <td>NaN</td>\n",
       "    </tr>\n",
       "    <tr>\n",
       "      <th>1</th>\n",
       "      <td>2/15/2019 14:37:29</td>\n",
       "      <td>1</td>\n",
       "      <td>no naptime / cheese ohnononononnononononononon...</td>\n",
       "      <td>NaN</td>\n",
       "      <td>NaN</td>\n",
       "      <td>NaN</td>\n",
       "      <td>NaN</td>\n",
       "      <td>NaN</td>\n",
       "    </tr>\n",
       "    <tr>\n",
       "      <th>2</th>\n",
       "      <td>2/15/2019 11:06:42</td>\n",
       "      <td>2</td>\n",
       "      <td>Because of mr liberman and i need to calm down...</td>\n",
       "      <td>NaN</td>\n",
       "      <td>NaN</td>\n",
       "      <td>NaN</td>\n",
       "      <td>NaN</td>\n",
       "      <td>NaN</td>\n",
       "    </tr>\n",
       "    <tr>\n",
       "      <th>3</th>\n",
       "      <td>2/15/2019 11:08:46</td>\n",
       "      <td>2</td>\n",
       "      <td>I gave this class a 2 because it is too fast f...</td>\n",
       "      <td>NaN</td>\n",
       "      <td>NaN</td>\n",
       "      <td>NaN</td>\n",
       "      <td>NaN</td>\n",
       "      <td>NaN</td>\n",
       "    </tr>\n",
       "    <tr>\n",
       "      <th>4</th>\n",
       "      <td>2/15/2019 11:06:05</td>\n",
       "      <td>3</td>\n",
       "      <td>Mr. Liberman is a fun teacher but we have to r...</td>\n",
       "      <td>NaN</td>\n",
       "      <td>NaN</td>\n",
       "      <td>NaN</td>\n",
       "      <td>NaN</td>\n",
       "      <td>NaN</td>\n",
       "    </tr>\n",
       "  </tbody>\n",
       "</table>\n",
       "</div>"
      ],
      "text/plain": [
       "            Timestamp  How would you score the class   \\\n",
       "0  2/15/2019 13:42:01                               1   \n",
       "1  2/15/2019 14:37:29                               1   \n",
       "2  2/15/2019 11:06:42                               2   \n",
       "3  2/15/2019 11:08:46                               2   \n",
       "4  2/15/2019 11:06:05                               3   \n",
       "\n",
       "  Explain why you gave that score? (What is good about the class? What is bad about the class? What could make the class better?)  \\\n",
       "0  we suck.                                      ...                                                                                \n",
       "1  no naptime / cheese ohnononononnononononononon...                                                                                \n",
       "2  Because of mr liberman and i need to calm down...                                                                                \n",
       "3  I gave this class a 2 because it is too fast f...                                                                                \n",
       "4  Mr. Liberman is a fun teacher but we have to r...                                                                                \n",
       "\n",
       "   Polarity (-1, 0, 1)  Suggestions (0 or 1)  Suggestions  Flag (0 1)  \\\n",
       "0                  NaN                   NaN          NaN         NaN   \n",
       "1                  NaN                   NaN          NaN         NaN   \n",
       "2                  NaN                   NaN          NaN         NaN   \n",
       "3                  NaN                   NaN          NaN         NaN   \n",
       "4                  NaN                   NaN          NaN         NaN   \n",
       "\n",
       "   Flag Data  \n",
       "0        NaN  \n",
       "1        NaN  \n",
       "2        NaN  \n",
       "3        NaN  \n",
       "4        NaN  "
      ]
     },
     "execution_count": 3,
     "metadata": {},
     "output_type": "execute_result"
    }
   ],
   "source": [
    "reviews.head()"
   ]
  },
  {
   "cell_type": "code",
   "execution_count": 4,
   "metadata": {},
   "outputs": [
    {
     "data": {
      "text/plain": [
       "(133, 8)"
      ]
     },
     "execution_count": 4,
     "metadata": {},
     "output_type": "execute_result"
    }
   ],
   "source": [
    "reviews.shape\n"
   ]
  },
  {
   "cell_type": "code",
   "execution_count": 5,
   "metadata": {},
   "outputs": [
    {
     "name": "stdout",
     "output_type": "stream",
     "text": [
      "<class 'pandas.core.frame.DataFrame'>\n",
      "RangeIndex: 133 entries, 0 to 132\n",
      "Data columns (total 8 columns):\n",
      "Timestamp                                                                                                                          133 non-null object\n",
      "How would you score the class                                                                                                      133 non-null int64\n",
      "Explain why you gave that score? (What is good about the class? What is bad about the class? What could make the class better?)    132 non-null object\n",
      "Polarity (-1, 0, 1)                                                                                                                0 non-null float64\n",
      "Suggestions (0 or 1)                                                                                                               0 non-null float64\n",
      "Suggestions                                                                                                                        0 non-null float64\n",
      "Flag (0 1)                                                                                                                         0 non-null float64\n",
      "Flag Data                                                                                                                          0 non-null float64\n",
      "dtypes: float64(5), int64(1), object(2)\n",
      "memory usage: 8.4+ KB\n"
     ]
    }
   ],
   "source": [
    "reviews.info()\n"
   ]
  },
  {
   "cell_type": "code",
   "execution_count": 6,
   "metadata": {},
   "outputs": [
    {
     "data": {
      "text/html": [
       "<div>\n",
       "<style scoped>\n",
       "    .dataframe tbody tr th:only-of-type {\n",
       "        vertical-align: middle;\n",
       "    }\n",
       "\n",
       "    .dataframe tbody tr th {\n",
       "        vertical-align: top;\n",
       "    }\n",
       "\n",
       "    .dataframe thead th {\n",
       "        text-align: right;\n",
       "    }\n",
       "</style>\n",
       "<table border=\"1\" class=\"dataframe\">\n",
       "  <thead>\n",
       "    <tr style=\"text-align: right;\">\n",
       "      <th></th>\n",
       "      <th>How would you score the class</th>\n",
       "      <th>Polarity (-1, 0, 1)</th>\n",
       "      <th>Suggestions (0 or 1)</th>\n",
       "      <th>Suggestions</th>\n",
       "      <th>Flag (0 1)</th>\n",
       "      <th>Flag Data</th>\n",
       "    </tr>\n",
       "  </thead>\n",
       "  <tbody>\n",
       "    <tr>\n",
       "      <th>count</th>\n",
       "      <td>133.000000</td>\n",
       "      <td>0.0</td>\n",
       "      <td>0.0</td>\n",
       "      <td>0.0</td>\n",
       "      <td>0.0</td>\n",
       "      <td>0.0</td>\n",
       "    </tr>\n",
       "    <tr>\n",
       "      <th>mean</th>\n",
       "      <td>4.255639</td>\n",
       "      <td>NaN</td>\n",
       "      <td>NaN</td>\n",
       "      <td>NaN</td>\n",
       "      <td>NaN</td>\n",
       "      <td>NaN</td>\n",
       "    </tr>\n",
       "    <tr>\n",
       "      <th>std</th>\n",
       "      <td>0.813281</td>\n",
       "      <td>NaN</td>\n",
       "      <td>NaN</td>\n",
       "      <td>NaN</td>\n",
       "      <td>NaN</td>\n",
       "      <td>NaN</td>\n",
       "    </tr>\n",
       "    <tr>\n",
       "      <th>min</th>\n",
       "      <td>1.000000</td>\n",
       "      <td>NaN</td>\n",
       "      <td>NaN</td>\n",
       "      <td>NaN</td>\n",
       "      <td>NaN</td>\n",
       "      <td>NaN</td>\n",
       "    </tr>\n",
       "    <tr>\n",
       "      <th>25%</th>\n",
       "      <td>4.000000</td>\n",
       "      <td>NaN</td>\n",
       "      <td>NaN</td>\n",
       "      <td>NaN</td>\n",
       "      <td>NaN</td>\n",
       "      <td>NaN</td>\n",
       "    </tr>\n",
       "    <tr>\n",
       "      <th>50%</th>\n",
       "      <td>4.000000</td>\n",
       "      <td>NaN</td>\n",
       "      <td>NaN</td>\n",
       "      <td>NaN</td>\n",
       "      <td>NaN</td>\n",
       "      <td>NaN</td>\n",
       "    </tr>\n",
       "    <tr>\n",
       "      <th>75%</th>\n",
       "      <td>5.000000</td>\n",
       "      <td>NaN</td>\n",
       "      <td>NaN</td>\n",
       "      <td>NaN</td>\n",
       "      <td>NaN</td>\n",
       "      <td>NaN</td>\n",
       "    </tr>\n",
       "    <tr>\n",
       "      <th>max</th>\n",
       "      <td>5.000000</td>\n",
       "      <td>NaN</td>\n",
       "      <td>NaN</td>\n",
       "      <td>NaN</td>\n",
       "      <td>NaN</td>\n",
       "      <td>NaN</td>\n",
       "    </tr>\n",
       "  </tbody>\n",
       "</table>\n",
       "</div>"
      ],
      "text/plain": [
       "       How would you score the class   Polarity (-1, 0, 1)  \\\n",
       "count                      133.000000                  0.0   \n",
       "mean                         4.255639                  NaN   \n",
       "std                          0.813281                  NaN   \n",
       "min                          1.000000                  NaN   \n",
       "25%                          4.000000                  NaN   \n",
       "50%                          4.000000                  NaN   \n",
       "75%                          5.000000                  NaN   \n",
       "max                          5.000000                  NaN   \n",
       "\n",
       "       Suggestions (0 or 1)  Suggestions  Flag (0 1)  Flag Data  \n",
       "count                   0.0          0.0         0.0        0.0  \n",
       "mean                    NaN          NaN         NaN        NaN  \n",
       "std                     NaN          NaN         NaN        NaN  \n",
       "min                     NaN          NaN         NaN        NaN  \n",
       "25%                     NaN          NaN         NaN        NaN  \n",
       "50%                     NaN          NaN         NaN        NaN  \n",
       "75%                     NaN          NaN         NaN        NaN  \n",
       "max                     NaN          NaN         NaN        NaN  "
      ]
     },
     "execution_count": 6,
     "metadata": {},
     "output_type": "execute_result"
    }
   ],
   "source": [
    "reviews.describe()\n"
   ]
  },
  {
   "cell_type": "code",
   "execution_count": 9,
   "metadata": {},
   "outputs": [
    {
     "data": {
      "text/html": [
       "<div>\n",
       "<style scoped>\n",
       "    .dataframe tbody tr th:only-of-type {\n",
       "        vertical-align: middle;\n",
       "    }\n",
       "\n",
       "    .dataframe tbody tr th {\n",
       "        vertical-align: top;\n",
       "    }\n",
       "\n",
       "    .dataframe thead th {\n",
       "        text-align: right;\n",
       "    }\n",
       "</style>\n",
       "<table border=\"1\" class=\"dataframe\">\n",
       "  <thead>\n",
       "    <tr style=\"text-align: right;\">\n",
       "      <th></th>\n",
       "      <th>Timestamp</th>\n",
       "      <th>stars</th>\n",
       "      <th>rev</th>\n",
       "      <th>Polarity (-1, 0, 1)</th>\n",
       "      <th>Suggestions (0 or 1)</th>\n",
       "      <th>Suggestions</th>\n",
       "      <th>Flag (0 1)</th>\n",
       "      <th>Flag Data</th>\n",
       "    </tr>\n",
       "  </thead>\n",
       "  <tbody>\n",
       "    <tr>\n",
       "      <th>0</th>\n",
       "      <td>2/15/2019 13:42:01</td>\n",
       "      <td>1</td>\n",
       "      <td>we suck.                                      ...</td>\n",
       "      <td>NaN</td>\n",
       "      <td>NaN</td>\n",
       "      <td>NaN</td>\n",
       "      <td>NaN</td>\n",
       "      <td>NaN</td>\n",
       "    </tr>\n",
       "    <tr>\n",
       "      <th>1</th>\n",
       "      <td>2/15/2019 14:37:29</td>\n",
       "      <td>1</td>\n",
       "      <td>no naptime / cheese ohnononononnononononononon...</td>\n",
       "      <td>NaN</td>\n",
       "      <td>NaN</td>\n",
       "      <td>NaN</td>\n",
       "      <td>NaN</td>\n",
       "      <td>NaN</td>\n",
       "    </tr>\n",
       "    <tr>\n",
       "      <th>2</th>\n",
       "      <td>2/15/2019 11:06:42</td>\n",
       "      <td>2</td>\n",
       "      <td>Because of mr liberman and i need to calm down...</td>\n",
       "      <td>NaN</td>\n",
       "      <td>NaN</td>\n",
       "      <td>NaN</td>\n",
       "      <td>NaN</td>\n",
       "      <td>NaN</td>\n",
       "    </tr>\n",
       "    <tr>\n",
       "      <th>3</th>\n",
       "      <td>2/15/2019 11:08:46</td>\n",
       "      <td>2</td>\n",
       "      <td>I gave this class a 2 because it is too fast f...</td>\n",
       "      <td>NaN</td>\n",
       "      <td>NaN</td>\n",
       "      <td>NaN</td>\n",
       "      <td>NaN</td>\n",
       "      <td>NaN</td>\n",
       "    </tr>\n",
       "    <tr>\n",
       "      <th>4</th>\n",
       "      <td>2/15/2019 11:06:05</td>\n",
       "      <td>3</td>\n",
       "      <td>Mr. Liberman is a fun teacher but we have to r...</td>\n",
       "      <td>NaN</td>\n",
       "      <td>NaN</td>\n",
       "      <td>NaN</td>\n",
       "      <td>NaN</td>\n",
       "      <td>NaN</td>\n",
       "    </tr>\n",
       "  </tbody>\n",
       "</table>\n",
       "</div>"
      ],
      "text/plain": [
       "            Timestamp  stars  \\\n",
       "0  2/15/2019 13:42:01      1   \n",
       "1  2/15/2019 14:37:29      1   \n",
       "2  2/15/2019 11:06:42      2   \n",
       "3  2/15/2019 11:08:46      2   \n",
       "4  2/15/2019 11:06:05      3   \n",
       "\n",
       "                                                 rev  Polarity (-1, 0, 1)  \\\n",
       "0  we suck.                                      ...                  NaN   \n",
       "1  no naptime / cheese ohnononononnononononononon...                  NaN   \n",
       "2  Because of mr liberman and i need to calm down...                  NaN   \n",
       "3  I gave this class a 2 because it is too fast f...                  NaN   \n",
       "4  Mr. Liberman is a fun teacher but we have to r...                  NaN   \n",
       "\n",
       "   Suggestions (0 or 1)  Suggestions  Flag (0 1)  Flag Data  \n",
       "0                   NaN          NaN         NaN        NaN  \n",
       "1                   NaN          NaN         NaN        NaN  \n",
       "2                   NaN          NaN         NaN        NaN  \n",
       "3                   NaN          NaN         NaN        NaN  \n",
       "4                   NaN          NaN         NaN        NaN  "
      ]
     },
     "execution_count": 9,
     "metadata": {},
     "output_type": "execute_result"
    }
   ],
   "source": [
    "reviews.rename(\n",
    "    columns={\n",
    "        'Explain why you gave that score? (What is good about the class? What is bad about the class? What could make the class better?)' : 'rev', 'How would you score the class ' : 'stars'\n",
    "    },\n",
    "    inplace=True\n",
    ")\n",
    "reviews.head()"
   ]
  },
  {
   "cell_type": "raw",
   "metadata": {},
   "source": [
    "reviews"
   ]
  },
  {
   "cell_type": "code",
   "execution_count": 10,
   "metadata": {},
   "outputs": [],
   "source": [
    "reviews['rev'] = reviews['rev'].apply(str)\n",
    "## This converts the column values of reviews to strings"
   ]
  },
  {
   "cell_type": "code",
   "execution_count": 11,
   "metadata": {},
   "outputs": [
    {
     "data": {
      "text/html": [
       "<div>\n",
       "<style scoped>\n",
       "    .dataframe tbody tr th:only-of-type {\n",
       "        vertical-align: middle;\n",
       "    }\n",
       "\n",
       "    .dataframe tbody tr th {\n",
       "        vertical-align: top;\n",
       "    }\n",
       "\n",
       "    .dataframe thead th {\n",
       "        text-align: right;\n",
       "    }\n",
       "</style>\n",
       "<table border=\"1\" class=\"dataframe\">\n",
       "  <thead>\n",
       "    <tr style=\"text-align: right;\">\n",
       "      <th></th>\n",
       "      <th>Timestamp</th>\n",
       "      <th>stars</th>\n",
       "      <th>rev</th>\n",
       "      <th>Polarity (-1, 0, 1)</th>\n",
       "      <th>Suggestions (0 or 1)</th>\n",
       "      <th>Suggestions</th>\n",
       "      <th>Flag (0 1)</th>\n",
       "      <th>Flag Data</th>\n",
       "      <th>text length</th>\n",
       "    </tr>\n",
       "  </thead>\n",
       "  <tbody>\n",
       "    <tr>\n",
       "      <th>0</th>\n",
       "      <td>2/15/2019 13:42:01</td>\n",
       "      <td>1</td>\n",
       "      <td>we suck.                                      ...</td>\n",
       "      <td>NaN</td>\n",
       "      <td>NaN</td>\n",
       "      <td>NaN</td>\n",
       "      <td>NaN</td>\n",
       "      <td>NaN</td>\n",
       "      <td>167</td>\n",
       "    </tr>\n",
       "    <tr>\n",
       "      <th>1</th>\n",
       "      <td>2/15/2019 14:37:29</td>\n",
       "      <td>1</td>\n",
       "      <td>no naptime / cheese ohnononononnononononononon...</td>\n",
       "      <td>NaN</td>\n",
       "      <td>NaN</td>\n",
       "      <td>NaN</td>\n",
       "      <td>NaN</td>\n",
       "      <td>NaN</td>\n",
       "      <td>86</td>\n",
       "    </tr>\n",
       "    <tr>\n",
       "      <th>2</th>\n",
       "      <td>2/15/2019 11:06:42</td>\n",
       "      <td>2</td>\n",
       "      <td>Because of mr liberman and i need to calm down...</td>\n",
       "      <td>NaN</td>\n",
       "      <td>NaN</td>\n",
       "      <td>NaN</td>\n",
       "      <td>NaN</td>\n",
       "      <td>NaN</td>\n",
       "      <td>117</td>\n",
       "    </tr>\n",
       "    <tr>\n",
       "      <th>3</th>\n",
       "      <td>2/15/2019 11:08:46</td>\n",
       "      <td>2</td>\n",
       "      <td>I gave this class a 2 because it is too fast f...</td>\n",
       "      <td>NaN</td>\n",
       "      <td>NaN</td>\n",
       "      <td>NaN</td>\n",
       "      <td>NaN</td>\n",
       "      <td>NaN</td>\n",
       "      <td>268</td>\n",
       "    </tr>\n",
       "    <tr>\n",
       "      <th>4</th>\n",
       "      <td>2/15/2019 11:06:05</td>\n",
       "      <td>3</td>\n",
       "      <td>Mr. Liberman is a fun teacher but we have to r...</td>\n",
       "      <td>NaN</td>\n",
       "      <td>NaN</td>\n",
       "      <td>NaN</td>\n",
       "      <td>NaN</td>\n",
       "      <td>NaN</td>\n",
       "      <td>113</td>\n",
       "    </tr>\n",
       "  </tbody>\n",
       "</table>\n",
       "</div>"
      ],
      "text/plain": [
       "            Timestamp  stars  \\\n",
       "0  2/15/2019 13:42:01      1   \n",
       "1  2/15/2019 14:37:29      1   \n",
       "2  2/15/2019 11:06:42      2   \n",
       "3  2/15/2019 11:08:46      2   \n",
       "4  2/15/2019 11:06:05      3   \n",
       "\n",
       "                                                 rev  Polarity (-1, 0, 1)  \\\n",
       "0  we suck.                                      ...                  NaN   \n",
       "1  no naptime / cheese ohnononononnononononononon...                  NaN   \n",
       "2  Because of mr liberman and i need to calm down...                  NaN   \n",
       "3  I gave this class a 2 because it is too fast f...                  NaN   \n",
       "4  Mr. Liberman is a fun teacher but we have to r...                  NaN   \n",
       "\n",
       "   Suggestions (0 or 1)  Suggestions  Flag (0 1)  Flag Data  text length  \n",
       "0                   NaN          NaN         NaN        NaN          167  \n",
       "1                   NaN          NaN         NaN        NaN           86  \n",
       "2                   NaN          NaN         NaN        NaN          117  \n",
       "3                   NaN          NaN         NaN        NaN          268  \n",
       "4                   NaN          NaN         NaN        NaN          113  "
      ]
     },
     "execution_count": 11,
     "metadata": {},
     "output_type": "execute_result"
    }
   ],
   "source": [
    "reviews['text length'] = reviews['rev'].apply(len)\n",
    "reviews.head()\n",
    "\n",
    "#this creates a new column that will apply the text length of review"
   ]
  },
  {
   "cell_type": "code",
   "execution_count": 12,
   "metadata": {},
   "outputs": [],
   "source": [
    "X = reviews['rev']\n",
    "y = reviews['stars']"
   ]
  },
  {
   "cell_type": "code",
   "execution_count": 13,
   "metadata": {},
   "outputs": [],
   "source": [
    "bow_transformer = CountVectorizer(analyzer=text_to_word_sequence).fit(X)\n"
   ]
  },
  {
   "cell_type": "code",
   "execution_count": 20,
   "metadata": {
    "scrolled": true
   },
   "outputs": [
    {
     "name": "stdout",
     "output_type": "stream",
     "text": [
      "{'we': 611, 'suck': 526, 'no': 377, 'naptime': 371, 'cheese': 101, 'ohnononononnononononononononononnononononononononononononoonononno': 392, 'because': 67, 'of': 390, 'mr': 364, 'liberman': 320, 'and': 41, 'i': 256, 'need': 372, 'to': 575, 'calm': 89, 'down': 149, 'have': 238, 'leavened': 312, 'bread': 84, 'unleavened': 592, 'better': 74, 'grades': 225, 'gave': 208, 'this': 567, 'class': 107, 'a': 13, '2': 6, 'it': 285, 'is': 283, 'too': 577, 'fast': 185, 'for': 196, 'everyone': 176, 'catch': 94, 'up': 595, 'barely': 63, 'any': 48, 'time': 572, 'communicate': 112, 'with': 631, 'each': 150, 'other': 402, 'also': 34, 'you': 652, 'scammed': 477, 'us': 596, 'pizza': 424, 'think': 566, 'should': 488, 'stop': 512, 'giving': 218, 'so': 499, 'much': 366, 'work': 635, 'even': 173, 'though': 570, \"don't\": 145, 'homework': 249, \"it's\": 286, 'still': 511, 'not': 381, 'good': 221, 'fun': 205, 'teacher': 545, 'but': 85, 'right': 471, 'write': 641, 'essays': 172, 'whcih': 620, 'make': 346, 'skids': 496, 'stressed': 514, 'out': 404, 'like': 327, 'my': 368, 'friend': 201, 'in': 265, 'hate': 237, 'there': 560, 'things': 565, 'go': 219, 'sometimes': 505, \"can't\": 91, 'everything': 177, 'watch': 608, 'many': 349, 'videos': 601, 'take': 535, 'notes': 384, 'something': 504, 'that': 555, 'could': 123, 'the': 557, 'if': 260, 'gives': 217, 'our': 403, 'on': 395, 'play': 425, 'more': 359, 'games': 207, 'pick': 423, 'own': 407, 'seats': 482, 'yeah': 645, 'kind': 298, 'boring': 81, 'has': 236, 'been': 69, 'projects': 445, 'while': 625, 'mabye': 343, 'free': 200, 'mu': 365, 'writingggg': 643, 'ppppppppppppppppppppppppp': 433, 'why': 628, 'do': 139, 'o': 388, 'writ': 640, 'score': 479, 'helpful': 242, 'thing': 564, 'libermen': 323, 'wants': 605, 'get': 211, 'grade': 223, 'bad': 61, 'lot': 337, 'note': 382, 'taking': 537, 'nothing': 385, 'will': 629, 'opinion': 398, 'was': 606, 'fine': 193, 'rush': 473, 'anything': 49, 'don´t': 148, 'really': 463, 'listen': 328, 'stay': 510, 'track': 579, 'few': 189, 'people': 417, 'interrupt': 276, 'or': 400, 'distracted': 138, 'maybe': 351, 'less': 314, 'writing': 642, 'annotating': 43, 'takes': 536, 'read': 459, 'give': 215, 'finish': 194, 'them': 558, 'would': 639, 'be': 66, 'sit': 495, 'friends': 202, 'did': 130, 'interactive': 274, 'activities': 17, 'some': 502, 'talk': 538, 'are': 52, 'very': 599, 'loud': 339, 'harsher': 235, 'punishments': 447, 'rid': 470, 'mic': 356, 'ball': 62, 'makes': 347, 'nervous': 373, 'lastly': 307, \"doesn't\": 142, 'yell': 649, 'at': 55, 'soooooooo': 507, 'pre': 434, 'printed': 439, 'dont': 147, 'know': 300, 'cause': 95, 'peoples': 418, 'except': 179, 'one': 396, 'girl': 214, 'boy': 83, 'who': 626, 'meany': 354, 'poo': 430, '4': 9, '5': 10, 'learn': 309, 'alot': 32, 'stuff': 521, 'rate': 457, 'four': 199, 'digitally': 132, 'choose': 103, 'let': 316, 'late': 308, 'mostly': 362, 'enjoy': 165, 'pack': 409, 'next': 375, 'lets': 317, 'me': 352, 'excell': 178, 'his': 247, 'toomany': 578, 'seriosly': 486, 'can': 90, 'timer': 573, 'yelling': 650, 'talking': 539, 'doing': 144, 'job': 290, \"that's\": 556, 'five': 195, 'readings': 461, 'respectful': 467, 'only': 397, 'problems': 442, 'student': 517, 'they': 562, 'bit': 76, 'annoying': 44, 'than': 554, 'learning': 311, 'easy': 152, 'shout': 490, 'often': 391, \"shouldn't\": 489, 'use': 597, 'liber': 318, 'loot': 335, 'bathroom': 65, 'idk': 259, 'imma': 263, 'just': 292, 'type': 585, 'random': 455, 'lalalalalalalalaalalalalalalalaalallallalala': 303, 'works': 636, 'well': 614, 'together': 576, 'k': 293, 'about': 15, 'text': 553, 'books': 79, '1': 0, 'using': 598, 'by': 87, 'improve': 264, 'teach': 544, 'relaxing': 466, 'way': 610, 'great': 227, 'hard': 234, 'aww': 59, 'points': 429, 'given': 216, 'favorite': 187, 'an': 40, 'agenda': 26, 'super': 530, 'jammed': 289, \"isn't\": 284, 'self': 485, 'help': 241, 'its': 288, 'enviornment': 169, 'move': 363, 'little': 330, 'enough': 167, 'entertaining': 168, 'english': 164, 'all': 28, 'real': 462, 'teachers': 546, 'teaches': 547, 'mindlessly': 357, 'copy': 120, 'interesting': 275, \"i'm\": 257, 'having': 239, 'struggles': 516, 'te': 543, 'kinda': 299, 'since': 493, 'buy': 86, 'supplies': 531, 'project': 443, 'paper': 410, 'laptops': 304, 'which': 624, 'faster': 186, 'done': 146, 'computers': 114, 'yeeeeeeeeeeeeeeeeeeeeeeeeeeeeeeeeeeeeeeeeeeeeeeeeeeeeeeeeeeeeeet': 648, 'intertaing': 278, 'interupting': 280, 'calls': 88, 'anoying': 45, 'control': 117, 'over': 405, 'troublemakers': 582, 'cough': 122, 'gabriel': 206, 'students': 518, 'advantage': 23, 'pretty': 438, 'feel': 188, 'actually': 20, 'unlike': 593, 'classes': 108, 'cube': 125, 'starts': 509, 'plus': 428, 'interrupting': 277, 'always': 35, 'answers': 47, 'nice': 376, 'chance': 96, 'parties': 414, 'liberloot': 319, 'shops': 487, 'when': 621, 'lieberman': 326, 'most': 361, 'pople': 431, 'what': 617, 'aht': 27, 'sorry': 508, 'after': 24, 'lunch': 342, 'far': 184, 'away': 57, 'from': 203, 'okay': 394, 'learned': 310, 'talks': 540, 'video': 600, 'reading': 460, 'had': 229, 'words': 634, 'tells': 550, 'says': 476, 'say': 475, 'answer': 46, 'twice': 584, 'keeps': 296, 'blocking': 77, 'board': 78, 'quality': 449, 'screen': 481, 'pull': 446, 'projector': 444, 'back': 60, 'then': 559, 'lass': 305, 'general': 209, 'task': 542, 'ok': 393, 'tests': 552, 'every': 175, 'somthing': 506, 'got': 222, 'test': 551, 'notebook': 383, 'check': 100, 'party': 415, 'retake': 468, 'whatever': 618, 'want': 604, 'redo': 465, 'chill': 102, 'he': 240, 'knows': 302, 'whats': 619, 'yet': 651, 'gets': 212, 'emo': 159, 'phase': 422, 'overall': 406, 'lots': 338, 'instead': 270, 'worksheets': 637, 'intead': 271, 'soetimes': 501, 'simple': 491, 'name': 369, 'controlling': 118, 'seems': 484, \"z's\": 656, 'chapter': 98, 'honestly': 250, 'decent': 128, 'social': 500, 'studies': 519, 'personally': 421, \"booth's\": 80, \"there's\": 561, 'tho': 568, 'anyways': 50, \"you're\": 653, 'probably': 440, 'worst': 638, 'understand': 589, 'quick': 452, 'how': 252, 'questions': 451, 'prefer': 435, 'lectured': 313, 'made': 345, 'experienced': 182, 'obviously': 389, 'history': 248, 'small': 498, 'problem': 441, 'actual': 19, 'suggest': 529, 'adding': 21, 'interactions': 273, 'rather': 458, 'papers': 411, 'believe': 72, 'where': 622, 'hope': 251, 'cool': 119, 'making': 348, 'simulations': 492, 'said': 474, 'noisy': 378, 'were': 615, 'your': 654, 'enjoyable': 166, 'attitude': 56, 'helps': 243, 'eat': 153, 'dislike': 135, 'disruptive': 137, 'waste': 607, 'end': 160, 'whole': 627, 'pace': 408, 'information': 267, \"won't\": 633, 'cost': 121, 'water': 609, 'able': 14, 'chose': 104, 'libermans': 322, 'becuse': 68, 'explains': 183, 'inprove': 269, 'charging': 99, 'periode': 420, 'pe': 416, 'bottle': 82, 'items': 287, 'annotate': 42, 'find': 192, 'quizzlet': 454, 'study': 520, 'part': 413, 'fewer': 190, 'liberstores': 324, 'alone': 31, 'goes': 220, 'litttle': 331, 'teaching': 548, 'amazing': 37, 'field': 191, 'trips': 581, 'ela': 157, 'already': 33, 'engaging': 163, 'knowledgeable': 301, 'does': 140, 'ill': 261, 'unsatisfying': 594, 'being': 71, 'environment': 170, 'energy': 161, 'excited': 180, 'here': 244, 'awesome': 58, 'wish': 630, 'mural': 367, 'amusement': 39, 'park': 412, 'change': 97, 'morei': 360, 'happy': 233, 'kids': 297, 'hes': 245, 'never': 374, 'mood': 358, 'actives': 16, 'kahoot': 294, 'interupt': 279, 'am': 36, 'struggle': 515, 'ime': 262, 'try': 583, 'amounts': 38, 'nows': 387, 'typing': 586, 'subject': 524, 'rarely': 456, 'group': 228, 'individual': 266, 'love': 340, 'care': 92, 'educational': 155, 'those': 569, 'youuuur': 655, '1000000000000000000000000000000000000000000000000000000000000000000000000000000000000000000000000000000000000000000000000000000000000000000000000000000000000000000000000000000000000000000000000000000000000000000000000000000000000000000000000000000000000000000000000000000000000000000000000000000000000000000000000000000000000000000000000000000000000000000000000000000000000000000000000000000000000000000000000000000000000000000000000000000000000000000000000000000000000000000000000000000000000000000000000000000000000000000000000000000000000000000000000000000000000000000000000000000000000000000000000000000000000000000000000000000000000000000000000000000000000000000000000000000000000000000000000000000000000000000000000000000000000000000000000': 3, 'd': 126, 'keep': 295, \"i've\": 258, 'year': 647, 'unique': 591, \"they're\": 563, 'now': 386, 'haha': 230, '1000000000000000000000000000000000000000000000000000000000000': 2, 'reasons': 464, 'memorize': 355, 'content': 116, 'normally': 380, 'whether': 623, 'computer': 113, 'behave': 70, 'deserve': 129, 'interact': 272, \"we're\": 612, 'slow': 497, 'informative': 268, 'jomackin10': 291, 'sucks': 528, 'losing': 336, '3rd': 8, 'period': 419, 'playing': 426, 'fortnite': 198, 'considerate': 115, 'tries': 580, 'system': 533, '7th': 12, 'ties': 571, '1st': 5, '2nd': 7, 'math': 350, '6th': 11, 'again': 25, '11': 4, '10': 1, 'u': 587, 'none': 379, 'stupid': 522, 'activity': 18, 'doesnt': 143, 'caring': 93, 'comes': 111, 'grading': 226, 'sure': 532, 'allows': 30, 'eating': 154, 'come': 110, 'see': 483, 'question': 450, 'day': 127, 'best': 73, 'ever': 174, 'yeahhhh': 646, 'disadvantage': 134, 'lol': 333, 'hand': 231, 'hurt': 254, 'hi': 246, 'sisters': 494, 'organised': 401, 'graded': 224, 'appropriately': 51, 'assigned': 54, 'creative': 124, 'understanding': 590, 'subjects': 525, 'school': 478, 'voice': 602, 'opinions': 399, 'exciting': 181, 'additionally': 22, 'long': 334, 'prepare': 436, 'elaborate': 158, 'presentations': 437, 'rule': 472, 'chromebook': 105, 'digital': 131, 'someone': 503, 'logs': 332, 'either': 156, 'tell': 549, 'doesn': 141, 't': 534, 'stress': 513, 'east': 151, 'vs': 603, 'west': 616, 'disputes': 136, 'church': 106, 'epic': 171, 'dis': 133, 'allowed': 29, 'ask': 53, 'revise': 469, \"liberman's\": 321, 'sucked': 527, 'into': 281, 'lesson': 315, 'posative': 432, 'big': 75, 'forced': 197, 'fully': 204, 'quiet': 453, 'last': 306, 'hyper': 255, 'style': 523, 'plays': 427, 'mean': 353, 'tired': 574, 'engage': 162, 'classmates': 109, 'literally': 329, 'wrong': 644, 'puts': 448, 'luca': 341, 'screeching': 480, 'basically': 64, 'without': 632, 'getting': 213, 'mad': 344, 'humor': 253, 'liberty': 325, 'involved': 282, 'handsome': 232, 'generous': 210, 'tall': 541, 'ugly': 588, 'wears': 613, 'nan': 370}\n"
     ]
    }
   ],
   "source": [
    "print(bow_transformer.vocabulary_)\n"
   ]
  },
  {
   "cell_type": "code",
   "execution_count": 18,
   "metadata": {},
   "outputs": [
    {
     "name": "stdout",
     "output_type": "stream",
     "text": [
      "  (0, 13)\t2\n",
      "  (0, 41)\t1\n",
      "  (0, 44)\t1\n",
      "  (0, 52)\t1\n",
      "  (0, 67)\t1\n",
      "  (0, 76)\t1\n",
      "  (0, 107)\t3\n",
      "  (0, 152)\t1\n",
      "  (0, 176)\t1\n",
      "  (0, 205)\t1\n",
      "  (0, 221)\t1\n",
      "  (0, 238)\t1\n",
      "  (0, 256)\t1\n",
      "  (0, 283)\t4\n",
      "  (0, 311)\t1\n",
      "  (0, 396)\t1\n",
      "  (0, 397)\t1\n",
      "  (0, 402)\t1\n",
      "  (0, 442)\t1\n",
      "  (0, 467)\t1\n",
      "  (0, 517)\t1\n",
      "  (0, 554)\t1\n",
      "  (0, 555)\t1\n",
      "  (0, 557)\t1\n",
      "  (0, 562)\t1\n",
      "  (0, 567)\t1\n",
      "  (0, 631)\t1\n"
     ]
    }
   ],
   "source": [
    "print(bow_transformer.transform([X[24]]))"
   ]
  },
  {
   "cell_type": "code",
   "execution_count": 19,
   "metadata": {},
   "outputs": [
    {
     "name": "stdout",
     "output_type": "stream",
     "text": [
      "The class is a good class, everyone is respectful. I only have problems with one student because they are a bit annoying. Other than that this class is fun and learning is easy.\n"
     ]
    }
   ],
   "source": [
    "print (X[24])"
   ]
  },
  {
   "cell_type": "code",
   "execution_count": null,
   "metadata": {},
   "outputs": [],
   "source": []
  }
 ],
 "metadata": {
  "kernelspec": {
   "display_name": "Python 3",
   "language": "python",
   "name": "python3"
  },
  "language_info": {
   "codemirror_mode": {
    "name": "ipython",
    "version": 3
   },
   "file_extension": ".py",
   "mimetype": "text/x-python",
   "name": "python",
   "nbconvert_exporter": "python",
   "pygments_lexer": "ipython3",
   "version": "3.7.1"
  }
 },
 "nbformat": 4,
 "nbformat_minor": 2
}
