{
 "cells": [
  {
   "cell_type": "code",
   "execution_count": 1,
   "metadata": {},
   "outputs": [],
   "source": [
    "import pandas as pd\n"
   ]
  },
  {
   "cell_type": "code",
   "execution_count": 2,
   "metadata": {},
   "outputs": [
    {
     "name": "stderr",
     "output_type": "stream",
     "text": [
      "Using TensorFlow backend.\n"
     ]
    }
   ],
   "source": [
    "from keras.datasets import imdb\n"
   ]
  },
  {
   "cell_type": "code",
   "execution_count": 3,
   "metadata": {},
   "outputs": [],
   "source": [
    "reviews = pd.read_csv('employee_reviews.csv')"
   ]
  },
  {
   "cell_type": "code",
   "execution_count": 4,
   "metadata": {},
   "outputs": [],
   "source": [
    "reviews[\"prosandcons\"]=reviews[\"pros\"]+\". \"+reviews[\"cons\"]"
   ]
  },
  {
   "cell_type": "code",
   "execution_count": 5,
   "metadata": {},
   "outputs": [],
   "source": [
    "#Use data that can show you a good results Print out \n",
    "#the data after each data to \n",
    "#see the current results"
   ]
  },
  {
   "cell_type": "code",
   "execution_count": 6,
   "metadata": {},
   "outputs": [],
   "source": [
    "def getsentiment(rating):\n",
    "    if int(rating) > 3:\n",
    "        return 1\n",
    "    if int(rating) <= 3:\n",
    "        return 0\n",
    "    "
   ]
  },
  {
   "cell_type": "code",
   "execution_count": 7,
   "metadata": {},
   "outputs": [],
   "source": [
    "reviews[\"sentiment\"]=reviews[\"overall-ratings\"].apply(getsentiment)"
   ]
  },
  {
   "cell_type": "code",
   "execution_count": 8,
   "metadata": {},
   "outputs": [],
   "source": [
    "data = reviews[['prosandcons','sentiment']]"
   ]
  },
  {
   "cell_type": "code",
   "execution_count": 9,
   "metadata": {
    "scrolled": true
   },
   "outputs": [
    {
     "data": {
      "text/html": [
       "<div>\n",
       "<style scoped>\n",
       "    .dataframe tbody tr th:only-of-type {\n",
       "        vertical-align: middle;\n",
       "    }\n",
       "\n",
       "    .dataframe tbody tr th {\n",
       "        vertical-align: top;\n",
       "    }\n",
       "\n",
       "    .dataframe thead th {\n",
       "        text-align: right;\n",
       "    }\n",
       "</style>\n",
       "<table border=\"1\" class=\"dataframe\">\n",
       "  <thead>\n",
       "    <tr style=\"text-align: right;\">\n",
       "      <th></th>\n",
       "      <th>prosandcons</th>\n",
       "      <th>sentiment</th>\n",
       "    </tr>\n",
       "  </thead>\n",
       "  <tbody>\n",
       "    <tr>\n",
       "      <th>0</th>\n",
       "      <td>People are smart and friendly. Bureaucracy is ...</td>\n",
       "      <td>1</td>\n",
       "    </tr>\n",
       "    <tr>\n",
       "      <th>1</th>\n",
       "      <td>1) Food, food, food. 15+ cafes on main campus ...</td>\n",
       "      <td>1</td>\n",
       "    </tr>\n",
       "    <tr>\n",
       "      <th>2</th>\n",
       "      <td>* If you're a software engineer, you're among ...</td>\n",
       "      <td>1</td>\n",
       "    </tr>\n",
       "    <tr>\n",
       "      <th>3</th>\n",
       "      <td>You can't find a more well-regarded company th...</td>\n",
       "      <td>1</td>\n",
       "    </tr>\n",
       "    <tr>\n",
       "      <th>4</th>\n",
       "      <td>Google is a world of its own. At every other c...</td>\n",
       "      <td>1</td>\n",
       "    </tr>\n",
       "    <tr>\n",
       "      <th>5</th>\n",
       "      <td>People are not that busy, so they are nice to ...</td>\n",
       "      <td>1</td>\n",
       "    </tr>\n",
       "    <tr>\n",
       "      <th>6</th>\n",
       "      <td>Great working environment. Good work life bala...</td>\n",
       "      <td>1</td>\n",
       "    </tr>\n",
       "    <tr>\n",
       "      <th>7</th>\n",
       "      <td>work culture, benefits, growth, people,. No co...</td>\n",
       "      <td>1</td>\n",
       "    </tr>\n",
       "    <tr>\n",
       "      <th>8</th>\n",
       "      <td>Great products. Vision you can feel good about...</td>\n",
       "      <td>1</td>\n",
       "    </tr>\n",
       "    <tr>\n",
       "      <th>9</th>\n",
       "      <td>Impact driven. Best tech in the world.. Size m...</td>\n",
       "      <td>1</td>\n",
       "    </tr>\n",
       "    <tr>\n",
       "      <th>10</th>\n",
       "      <td>* Smart people * World class infrastructure * ...</td>\n",
       "      <td>1</td>\n",
       "    </tr>\n",
       "    <tr>\n",
       "      <th>11</th>\n",
       "      <td>* There is endless opportunity * You'll never ...</td>\n",
       "      <td>1</td>\n",
       "    </tr>\n",
       "    <tr>\n",
       "      <th>12</th>\n",
       "      <td>Atmosphere that promotes the expression of fre...</td>\n",
       "      <td>1</td>\n",
       "    </tr>\n",
       "    <tr>\n",
       "      <th>13</th>\n",
       "      <td>Amazing company. Still the best place to work....</td>\n",
       "      <td>1</td>\n",
       "    </tr>\n",
       "    <tr>\n",
       "      <th>14</th>\n",
       "      <td>Perks, autonomy, cool products, smart people. ...</td>\n",
       "      <td>1</td>\n",
       "    </tr>\n",
       "    <tr>\n",
       "      <th>15</th>\n",
       "      <td>The people are great to work with. There is lo...</td>\n",
       "      <td>1</td>\n",
       "    </tr>\n",
       "    <tr>\n",
       "      <th>16</th>\n",
       "      <td>The people are great to work with, good perks....</td>\n",
       "      <td>1</td>\n",
       "    </tr>\n",
       "    <tr>\n",
       "      <th>17</th>\n",
       "      <td>Good managers, benefits , some support, nice a...</td>\n",
       "      <td>1</td>\n",
       "    </tr>\n",
       "    <tr>\n",
       "      <th>18</th>\n",
       "      <td>Really fun work environment with startup. Real...</td>\n",
       "      <td>1</td>\n",
       "    </tr>\n",
       "    <tr>\n",
       "      <th>19</th>\n",
       "      <td>Great benefits, growth and people to work with...</td>\n",
       "      <td>1</td>\n",
       "    </tr>\n",
       "    <tr>\n",
       "      <th>20</th>\n",
       "      <td>Great team and support for individuals. Lots o...</td>\n",
       "      <td>1</td>\n",
       "    </tr>\n",
       "    <tr>\n",
       "      <th>21</th>\n",
       "      <td>I love Google a lot. Some things are not to great</td>\n",
       "      <td>1</td>\n",
       "    </tr>\n",
       "    <tr>\n",
       "      <th>22</th>\n",
       "      <td>it's a great place to work!. too much red tape...</td>\n",
       "      <td>1</td>\n",
       "    </tr>\n",
       "    <tr>\n",
       "      <th>23</th>\n",
       "      <td>Awesome job environment to work in. Pressure i...</td>\n",
       "      <td>1</td>\n",
       "    </tr>\n",
       "    <tr>\n",
       "      <th>24</th>\n",
       "      <td>I like and learned from the beginning accounti...</td>\n",
       "      <td>1</td>\n",
       "    </tr>\n",
       "    <tr>\n",
       "      <th>25</th>\n",
       "      <td>- perks are phenomenal, food, health, office. ...</td>\n",
       "      <td>1</td>\n",
       "    </tr>\n",
       "    <tr>\n",
       "      <th>26</th>\n",
       "      <td>Very inspiring engineers to work with.. Easy t...</td>\n",
       "      <td>1</td>\n",
       "    </tr>\n",
       "    <tr>\n",
       "      <th>27</th>\n",
       "      <td>- A company culture that encourages dissent, d...</td>\n",
       "      <td>1</td>\n",
       "    </tr>\n",
       "    <tr>\n",
       "      <th>28</th>\n",
       "      <td>The people are awesome. Lots of perks. Reduce ...</td>\n",
       "      <td>1</td>\n",
       "    </tr>\n",
       "    <tr>\n",
       "      <th>29</th>\n",
       "      <td>Great place to work, free food, and great cult...</td>\n",
       "      <td>1</td>\n",
       "    </tr>\n",
       "    <tr>\n",
       "      <th>...</th>\n",
       "      <td>...</td>\n",
       "      <td>...</td>\n",
       "    </tr>\n",
       "    <tr>\n",
       "      <th>67499</th>\n",
       "      <td>Passion for work and company. Lot of opportuni...</td>\n",
       "      <td>1</td>\n",
       "    </tr>\n",
       "    <tr>\n",
       "      <th>67500</th>\n",
       "      <td>Great benefits. no other place can compare. As...</td>\n",
       "      <td>0</td>\n",
       "    </tr>\n",
       "    <tr>\n",
       "      <th>67501</th>\n",
       "      <td>One word - technologies. We are rapidly grabbi...</td>\n",
       "      <td>1</td>\n",
       "    </tr>\n",
       "    <tr>\n",
       "      <th>67502</th>\n",
       "      <td>Challenge, professional career growth, high st...</td>\n",
       "      <td>1</td>\n",
       "    </tr>\n",
       "    <tr>\n",
       "      <th>67503</th>\n",
       "      <td>still some pockets of good ppl.. was great now...</td>\n",
       "      <td>0</td>\n",
       "    </tr>\n",
       "    <tr>\n",
       "      <th>67504</th>\n",
       "      <td>An employee's choice of company, great HR prac...</td>\n",
       "      <td>1</td>\n",
       "    </tr>\n",
       "    <tr>\n",
       "      <th>67505</th>\n",
       "      <td>One of the best places to work - profesionally...</td>\n",
       "      <td>1</td>\n",
       "    </tr>\n",
       "    <tr>\n",
       "      <th>67506</th>\n",
       "      <td>There are some really smart folks working ther...</td>\n",
       "      <td>0</td>\n",
       "    </tr>\n",
       "    <tr>\n",
       "      <th>67507</th>\n",
       "      <td>1. Good salary 2. Good benefits 3. Overall ver...</td>\n",
       "      <td>0</td>\n",
       "    </tr>\n",
       "    <tr>\n",
       "      <th>67508</th>\n",
       "      <td>Knowledge Sharing Dynamic Teams Great career \"...</td>\n",
       "      <td>1</td>\n",
       "    </tr>\n",
       "    <tr>\n",
       "      <th>67509</th>\n",
       "      <td>Knowledge Sharing Dynamic Teams Great career \"...</td>\n",
       "      <td>1</td>\n",
       "    </tr>\n",
       "    <tr>\n",
       "      <th>67510</th>\n",
       "      <td>Best company for entry level Engineer. Good Wo...</td>\n",
       "      <td>0</td>\n",
       "    </tr>\n",
       "    <tr>\n",
       "      <th>67511</th>\n",
       "      <td>highly technical and motivated people one can ...</td>\n",
       "      <td>0</td>\n",
       "    </tr>\n",
       "    <tr>\n",
       "      <th>67512</th>\n",
       "      <td>Has great benefit package. Most of the time yo...</td>\n",
       "      <td>1</td>\n",
       "    </tr>\n",
       "    <tr>\n",
       "      <th>67513</th>\n",
       "      <td>You can learn and experience lots of things at...</td>\n",
       "      <td>0</td>\n",
       "    </tr>\n",
       "    <tr>\n",
       "      <th>67514</th>\n",
       "      <td>- Good benefit so far - Large, lots of variety...</td>\n",
       "      <td>1</td>\n",
       "    </tr>\n",
       "    <tr>\n",
       "      <th>67515</th>\n",
       "      <td>- good benefits and perks, free Windows Phone ...</td>\n",
       "      <td>0</td>\n",
       "    </tr>\n",
       "    <tr>\n",
       "      <th>67516</th>\n",
       "      <td>I had one group that was pretty good with orga...</td>\n",
       "      <td>0</td>\n",
       "    </tr>\n",
       "    <tr>\n",
       "      <th>67517</th>\n",
       "      <td>Some really smart people to work with. If you ...</td>\n",
       "      <td>0</td>\n",
       "    </tr>\n",
       "    <tr>\n",
       "      <th>67518</th>\n",
       "      <td>lots of new stuff almost daily. processes are ...</td>\n",
       "      <td>0</td>\n",
       "    </tr>\n",
       "    <tr>\n",
       "      <th>67519</th>\n",
       "      <td>Unlimited opportunities, fun, great networking...</td>\n",
       "      <td>1</td>\n",
       "    </tr>\n",
       "    <tr>\n",
       "      <th>67520</th>\n",
       "      <td>It is a big company. So if you really want to ...</td>\n",
       "      <td>1</td>\n",
       "    </tr>\n",
       "    <tr>\n",
       "      <th>67521</th>\n",
       "      <td>MS is a good company but hire wrong people. Wo...</td>\n",
       "      <td>0</td>\n",
       "    </tr>\n",
       "    <tr>\n",
       "      <th>67522</th>\n",
       "      <td>Employee empowerment Ability to take your init...</td>\n",
       "      <td>0</td>\n",
       "    </tr>\n",
       "    <tr>\n",
       "      <th>67523</th>\n",
       "      <td>Good benefits package, huge customer base.. Po...</td>\n",
       "      <td>1</td>\n",
       "    </tr>\n",
       "    <tr>\n",
       "      <th>67524</th>\n",
       "      <td>-Access to a wide range of technologies, compl...</td>\n",
       "      <td>0</td>\n",
       "    </tr>\n",
       "    <tr>\n",
       "      <th>67525</th>\n",
       "      <td>- Once you're at Microsoft you can change role...</td>\n",
       "      <td>0</td>\n",
       "    </tr>\n",
       "    <tr>\n",
       "      <th>67526</th>\n",
       "      <td>Nice place to work. Good atmosphere with advan...</td>\n",
       "      <td>1</td>\n",
       "    </tr>\n",
       "    <tr>\n",
       "      <th>67527</th>\n",
       "      <td>Smart people around you, can learn from them. ...</td>\n",
       "      <td>0</td>\n",
       "    </tr>\n",
       "    <tr>\n",
       "      <th>67528</th>\n",
       "      <td>Compensation, Health benefits and brand name r...</td>\n",
       "      <td>0</td>\n",
       "    </tr>\n",
       "  </tbody>\n",
       "</table>\n",
       "<p>67529 rows × 2 columns</p>\n",
       "</div>"
      ],
      "text/plain": [
       "                                             prosandcons  sentiment\n",
       "0      People are smart and friendly. Bureaucracy is ...          1\n",
       "1      1) Food, food, food. 15+ cafes on main campus ...          1\n",
       "2      * If you're a software engineer, you're among ...          1\n",
       "3      You can't find a more well-regarded company th...          1\n",
       "4      Google is a world of its own. At every other c...          1\n",
       "5      People are not that busy, so they are nice to ...          1\n",
       "6      Great working environment. Good work life bala...          1\n",
       "7      work culture, benefits, growth, people,. No co...          1\n",
       "8      Great products. Vision you can feel good about...          1\n",
       "9      Impact driven. Best tech in the world.. Size m...          1\n",
       "10     * Smart people * World class infrastructure * ...          1\n",
       "11     * There is endless opportunity * You'll never ...          1\n",
       "12     Atmosphere that promotes the expression of fre...          1\n",
       "13     Amazing company. Still the best place to work....          1\n",
       "14     Perks, autonomy, cool products, smart people. ...          1\n",
       "15     The people are great to work with. There is lo...          1\n",
       "16     The people are great to work with, good perks....          1\n",
       "17     Good managers, benefits , some support, nice a...          1\n",
       "18     Really fun work environment with startup. Real...          1\n",
       "19     Great benefits, growth and people to work with...          1\n",
       "20     Great team and support for individuals. Lots o...          1\n",
       "21     I love Google a lot. Some things are not to great          1\n",
       "22     it's a great place to work!. too much red tape...          1\n",
       "23     Awesome job environment to work in. Pressure i...          1\n",
       "24     I like and learned from the beginning accounti...          1\n",
       "25     - perks are phenomenal, food, health, office. ...          1\n",
       "26     Very inspiring engineers to work with.. Easy t...          1\n",
       "27     - A company culture that encourages dissent, d...          1\n",
       "28     The people are awesome. Lots of perks. Reduce ...          1\n",
       "29     Great place to work, free food, and great cult...          1\n",
       "...                                                  ...        ...\n",
       "67499  Passion for work and company. Lot of opportuni...          1\n",
       "67500  Great benefits. no other place can compare. As...          0\n",
       "67501  One word - technologies. We are rapidly grabbi...          1\n",
       "67502  Challenge, professional career growth, high st...          1\n",
       "67503  still some pockets of good ppl.. was great now...          0\n",
       "67504  An employee's choice of company, great HR prac...          1\n",
       "67505  One of the best places to work - profesionally...          1\n",
       "67506  There are some really smart folks working ther...          0\n",
       "67507  1. Good salary 2. Good benefits 3. Overall ver...          0\n",
       "67508  Knowledge Sharing Dynamic Teams Great career \"...          1\n",
       "67509  Knowledge Sharing Dynamic Teams Great career \"...          1\n",
       "67510  Best company for entry level Engineer. Good Wo...          0\n",
       "67511  highly technical and motivated people one can ...          0\n",
       "67512  Has great benefit package. Most of the time yo...          1\n",
       "67513  You can learn and experience lots of things at...          0\n",
       "67514  - Good benefit so far - Large, lots of variety...          1\n",
       "67515  - good benefits and perks, free Windows Phone ...          0\n",
       "67516  I had one group that was pretty good with orga...          0\n",
       "67517  Some really smart people to work with. If you ...          0\n",
       "67518  lots of new stuff almost daily. processes are ...          0\n",
       "67519  Unlimited opportunities, fun, great networking...          1\n",
       "67520  It is a big company. So if you really want to ...          1\n",
       "67521  MS is a good company but hire wrong people. Wo...          0\n",
       "67522  Employee empowerment Ability to take your init...          0\n",
       "67523  Good benefits package, huge customer base.. Po...          1\n",
       "67524  -Access to a wide range of technologies, compl...          0\n",
       "67525  - Once you're at Microsoft you can change role...          0\n",
       "67526  Nice place to work. Good atmosphere with advan...          1\n",
       "67527  Smart people around you, can learn from them. ...          0\n",
       "67528  Compensation, Health benefits and brand name r...          0\n",
       "\n",
       "[67529 rows x 2 columns]"
      ]
     },
     "execution_count": 9,
     "metadata": {},
     "output_type": "execute_result"
    }
   ],
   "source": [
    "data"
   ]
  },
  {
   "cell_type": "code",
   "execution_count": 10,
   "metadata": {},
   "outputs": [],
   "source": [
    "X =  data['prosandcons']\n",
    "\n",
    "y = data['sentiment']"
   ]
  },
  {
   "cell_type": "code",
   "execution_count": 11,
   "metadata": {},
   "outputs": [
    {
     "name": "stdout",
     "output_type": "stream",
     "text": [
      "unique words 38357\n",
      "data shape: (67529, 500)\n"
     ]
    }
   ],
   "source": [
    "from keras.preprocessing.sequence import pad_sequences\n",
    "from keras.preprocessing.text import Tokenizer\n",
    "\n",
    "tokenizer = Tokenizer()\n",
    "tokenizer.fit_on_texts(X) \n",
    "sequences = tokenizer.texts_to_sequences(X)\n",
    "\n",
    "\n",
    "word_index = tokenizer.word_index\n",
    "print('unique words %s' % len(word_index))\n",
    "\n",
    "stupiddata = pad_sequences(sequences, maxlen=500, padding='post')\n",
    "print('data shape:', stupiddata.shape)\n",
    "\n"
   ]
  },
  {
   "cell_type": "code",
   "execution_count": null,
   "metadata": {},
   "outputs": [],
   "source": []
  },
  {
   "cell_type": "code",
   "execution_count": 12,
   "metadata": {},
   "outputs": [],
   "source": [
    "from sklearn.model_selection import train_test_split\n",
    "X_train, X_test, y_train, y_test = train_test_split(stupiddata,y , test_size=0.2, random_state=42)"
   ]
  },
  {
   "cell_type": "code",
   "execution_count": 13,
   "metadata": {},
   "outputs": [],
   "source": [
    "# print('Maximum review length: {}'.format(\n",
    "# len(max((X_train + X_test), key=len))))"
   ]
  },
  {
   "cell_type": "code",
   "execution_count": 14,
   "metadata": {},
   "outputs": [],
   "source": [
    "# print('Minimum review length: {}'.format(\n",
    "# len(min((X_test + X_test), key=len))))"
   ]
  },
  {
   "cell_type": "code",
   "execution_count": 15,
   "metadata": {},
   "outputs": [],
   "source": [
    "# from keras.preprocessing import sequence\n",
    "# max_words = 500\n",
    "# X_train = sequence.pad_sequences(X_train, maxlen=max_words)\n",
    "# X_test = sequence.pad_sequences(X_test, maxlen=max_words)"
   ]
  },
  {
   "cell_type": "code",
   "execution_count": 16,
   "metadata": {},
   "outputs": [
    {
     "name": "stdout",
     "output_type": "stream",
     "text": [
      "Total 400000 word vectors.\n"
     ]
    }
   ],
   "source": [
    "#Glove Vectors loaded\n",
    "import numpy as np\n",
    "\n",
    "embeddings_index = {}\n",
    "\n",
    "f = open('glove.6B.100d.txt', encoding=\"utf8\")\n",
    "\n",
    "for line in f:\n",
    "\n",
    "    values = line.split()\n",
    "\n",
    "    word = values[0]\n",
    "\n",
    "    coefs = np.asarray(values[1:], dtype='float32')\n",
    "\n",
    "    embeddings_index[word] = coefs\n",
    "\n",
    "f.close()\n",
    "\n",
    " \n",
    "\n",
    "print('Total %s word vectors.' % len(embeddings_index))"
   ]
  },
  {
   "cell_type": "code",
   "execution_count": 17,
   "metadata": {},
   "outputs": [],
   "source": [
    "#do not need to do pipelining\n",
    "\n",
    "#want to use the model.fit- parse the train data and then specify the epochs and batch size.\n",
    "\n",
    "\n",
    "# prepare embeddings for layer\n",
    "from keras.layers.embeddings import Embedding\n",
    "\n",
    "words_max = len(word_index)+1\n",
    "\n",
    "embedding_matrix = np.zeros((len(word_index)+1, 100))\n",
    "\n",
    "for word, i in word_index.items():\n",
    "\n",
    "    if i >= words_max:\n",
    "\n",
    "        continue\n",
    "\n",
    "    embedding_vector = embeddings_index.get(word)\n",
    "\n",
    "    if embedding_vector is not None:\n",
    "\n",
    "        embedding_matrix[i] = embedding_vector"
   ]
  },
  {
   "cell_type": "code",
   "execution_count": 18,
   "metadata": {},
   "outputs": [],
   "source": [
    "##this is where add Karuna Code\n",
    "# Create an non re-trainable embedding layer with embedding size 100\n",
    "\n",
    "nb_words = len(word_index)+1\n",
    "\n",
    "embedding_layer = Embedding(nb_words,100,\n",
    "\n",
    "        weights=[embedding_matrix],\n",
    "\n",
    "        input_length=500,\n",
    "\n",
    "        trainable=True)"
   ]
  },
  {
   "cell_type": "code",
   "execution_count": 23,
   "metadata": {},
   "outputs": [
    {
     "name": "stdout",
     "output_type": "stream",
     "text": [
      "WARNING:tensorflow:From /anaconda3/lib/python3.7/site-packages/keras/backend/tensorflow_backend.py:3445: calling dropout (from tensorflow.python.ops.nn_ops) with keep_prob is deprecated and will be removed in a future version.\n",
      "Instructions for updating:\n",
      "Please use `rate` instead of `keep_prob`. Rate should be set to `rate = 1 - keep_prob`.\n",
      "_________________________________________________________________\n",
      "Layer (type)                 Output Shape              Param #   \n",
      "=================================================================\n",
      "embedding_1 (Embedding)      (None, 500, 100)          3835800   \n",
      "_________________________________________________________________\n",
      "lstm_2 (LSTM)                (None, 100)               80400     \n",
      "_________________________________________________________________\n",
      "dropout_1 (Dropout)          (None, 100)               0         \n",
      "_________________________________________________________________\n",
      "dense_1 (Dense)              (None, 1)                 101       \n",
      "=================================================================\n",
      "Total params: 3,916,301\n",
      "Trainable params: 3,916,301\n",
      "Non-trainable params: 0\n",
      "_________________________________________________________________\n",
      "None\n"
     ]
    }
   ],
   "source": [
    "from keras import Sequential\n",
    "from keras.layers import Embedding, LSTM, Dense, Dropout\n",
    "embedding_size=32\n",
    "model=Sequential()\n",
    "model.add(embedding_layer)\n",
    "# model.add(Embedding(5000, embedding_size, input_length=500))\n",
    "model.add(LSTM(100))\n",
    "model.add(Dropout(0.25))\n",
    "model.add(Dense(1, activation='sigmoid'))\n",
    "print(model.summary())"
   ]
  },
  {
   "cell_type": "code",
   "execution_count": 24,
   "metadata": {},
   "outputs": [],
   "source": [
    "model.compile(loss='binary_crossentropy', \n",
    "             optimizer='adam', \n",
    "             metrics=['accuracy'])"
   ]
  },
  {
   "cell_type": "code",
   "execution_count": 25,
   "metadata": {},
   "outputs": [
    {
     "name": "stdout",
     "output_type": "stream",
     "text": [
      "WARNING:tensorflow:From /anaconda3/lib/python3.7/site-packages/tensorflow/python/ops/math_ops.py:3066: to_int32 (from tensorflow.python.ops.math_ops) is deprecated and will be removed in a future version.\n",
      "Instructions for updating:\n",
      "Use tf.cast instead.\n",
      "Train on 53948 samples, validate on 75 samples\n",
      "Epoch 1/17\n",
      "53948/53948 [==============================] - 665s 12ms/step - loss: 0.6293 - acc: 0.6795 - val_loss: 0.5798 - val_acc: 0.7333\n",
      "Epoch 2/17\n",
      "53948/53948 [==============================] - 691s 13ms/step - loss: 0.6277 - acc: 0.6801 - val_loss: 0.5837 - val_acc: 0.7333\n",
      "Epoch 3/17\n",
      "53948/53948 [==============================] - 800s 15ms/step - loss: 0.6289 - acc: 0.6795 - val_loss: 0.5990 - val_acc: 0.7333\n",
      "Epoch 4/17\n",
      "53948/53948 [==============================] - 724s 13ms/step - loss: 0.6250 - acc: 0.6812 - val_loss: 0.5606 - val_acc: 0.7467\n",
      "Epoch 5/17\n",
      "53948/53948 [==============================] - 740s 14ms/step - loss: 0.6229 - acc: 0.6831 - val_loss: 0.5533 - val_acc: 0.7600\n",
      "Epoch 6/17\n",
      "53948/53948 [==============================] - 690s 13ms/step - loss: 0.6180 - acc: 0.6842 - val_loss: 0.5884 - val_acc: 0.7333\n",
      "Epoch 7/17\n",
      "53948/53948 [==============================] - 670s 12ms/step - loss: 0.6261 - acc: 0.6808 - val_loss: 0.5817 - val_acc: 0.7333\n",
      "Epoch 8/17\n",
      "53948/53948 [==============================] - 666s 12ms/step - loss: 0.6259 - acc: 0.6809 - val_loss: 0.5808 - val_acc: 0.7333\n",
      "Epoch 9/17\n",
      "53948/53948 [==============================] - 665s 12ms/step - loss: 0.6119 - acc: 0.6888 - val_loss: 0.5000 - val_acc: 0.7867\n",
      "Epoch 10/17\n",
      "53948/53948 [==============================] - 638s 12ms/step - loss: 0.5440 - acc: 0.7333 - val_loss: 0.4731 - val_acc: 0.7867\n",
      "Epoch 11/17\n",
      "53948/53948 [==============================] - 647s 12ms/step - loss: 0.4996 - acc: 0.7702 - val_loss: 0.4321 - val_acc: 0.8000\n",
      "Epoch 12/17\n",
      "53948/53948 [==============================] - 709s 13ms/step - loss: 0.4432 - acc: 0.8043 - val_loss: 0.4440 - val_acc: 0.8133\n",
      "Epoch 13/17\n",
      "53948/53948 [==============================] - 662s 12ms/step - loss: 0.3915 - acc: 0.8331 - val_loss: 0.4578 - val_acc: 0.8000\n",
      "Epoch 14/17\n",
      "53948/53948 [==============================] - 660s 12ms/step - loss: 0.3412 - acc: 0.8591 - val_loss: 0.4739 - val_acc: 0.7867\n",
      "Epoch 15/17\n",
      "53948/53948 [==============================] - 672s 12ms/step - loss: 0.2986 - acc: 0.8787 - val_loss: 0.5337 - val_acc: 0.7600\n",
      "Epoch 16/17\n",
      "53948/53948 [==============================] - 631s 12ms/step - loss: 0.2623 - acc: 0.8951 - val_loss: 0.5826 - val_acc: 0.7733\n",
      "Epoch 17/17\n",
      "53948/53948 [==============================] - 644s 12ms/step - loss: 0.2318 - acc: 0.9085 - val_loss: 0.6766 - val_acc: 0.7733\n"
     ]
    },
    {
     "data": {
      "text/plain": [
       "<keras.callbacks.History at 0x10e8d9240>"
      ]
     },
     "execution_count": 25,
     "metadata": {},
     "output_type": "execute_result"
    }
   ],
   "source": [
    "batch_size = 75\n",
    "num_epochs = 17\n",
    "\n",
    "X_valid, y_valid = X_train[:batch_size], y_train[:batch_size]\n",
    "X_train2, y_train2 = X_train[batch_size:], y_train[batch_size:]\n",
    "model.fit(X_train2, y_train2, validation_data=(X_valid, y_valid), batch_size=batch_size, epochs=num_epochs)"
   ]
  },
  {
   "cell_type": "code",
   "execution_count": 26,
   "metadata": {},
   "outputs": [
    {
     "name": "stdout",
     "output_type": "stream",
     "text": [
      "Test accuracy: 0.7437435213978972\n"
     ]
    }
   ],
   "source": [
    "scores = model.evaluate(X_test, y_test, verbose=0)\n",
    "print('Test accuracy:', scores[1])\n"
   ]
  },
  {
   "cell_type": "code",
   "execution_count": null,
   "metadata": {},
   "outputs": [],
   "source": [
    "#Batch 2 with 2 LSTMS"
   ]
  },
  {
   "cell_type": "code",
   "execution_count": 20,
   "metadata": {},
   "outputs": [
    {
     "name": "stdout",
     "output_type": "stream",
     "text": [
      "_________________________________________________________________\n",
      "Layer (type)                 Output Shape              Param #   \n",
      "=================================================================\n",
      "embedding_1 (Embedding)      (None, 500, 100)          3835800   \n",
      "_________________________________________________________________\n",
      "lstm_5 (LSTM)                (None, 500, 100)          80400     \n",
      "_________________________________________________________________\n",
      "lstm_6 (LSTM)                (None, 32)                17024     \n",
      "_________________________________________________________________\n",
      "dropout_2 (Dropout)          (None, 32)                0         \n",
      "_________________________________________________________________\n",
      "dense_2 (Dense)              (None, 1)                 33        \n",
      "=================================================================\n",
      "Total params: 3,933,257\n",
      "Trainable params: 3,933,257\n",
      "Non-trainable params: 0\n",
      "_________________________________________________________________\n",
      "None\n"
     ]
    }
   ],
   "source": [
    "from keras import Sequential\n",
    "from keras.layers import Embedding, LSTM, Dense, Dropout\n",
    "embedding_size=32\n",
    "model=Sequential()\n",
    "model.add(embedding_layer)\n",
    "# model.add(Embedding(5000, embedding_size, input_length=500))\n",
    "model.add(LSTM(100, return_sequences=True))\n",
    "model.add(LSTM(32))\n",
    "model.add(Dropout(0.25))\n",
    "model.add(Dense(1, activation='sigmoid'))\n",
    "print(model.summary())"
   ]
  },
  {
   "cell_type": "code",
   "execution_count": 21,
   "metadata": {},
   "outputs": [],
   "source": [
    "model.compile(loss='mean_squared_error', \n",
    "             optimizer='adam', \n",
    "             metrics=['accuracy'])"
   ]
  },
  {
   "cell_type": "code",
   "execution_count": 22,
   "metadata": {},
   "outputs": [
    {
     "name": "stdout",
     "output_type": "stream",
     "text": [
      "WARNING:tensorflow:From /anaconda3/lib/python3.7/site-packages/tensorflow/python/ops/math_ops.py:3066: to_int32 (from tensorflow.python.ops.math_ops) is deprecated and will be removed in a future version.\n",
      "Instructions for updating:\n",
      "Use tf.cast instead.\n",
      "Train on 53948 samples, validate on 75 samples\n",
      "Epoch 1/17\n",
      "53948/53948 [==============================] - 1332s 25ms/step - loss: 0.2188 - acc: 0.6794 - val_loss: 0.2057 - val_acc: 0.7200\n",
      "Epoch 2/17\n",
      "53948/53948 [==============================] - 2298s 43ms/step - loss: 0.2196 - acc: 0.6773 - val_loss: 0.1944 - val_acc: 0.7333\n",
      "Epoch 3/17\n",
      "53948/53948 [==============================] - 1004s 19ms/step - loss: 0.2152 - acc: 0.6842 - val_loss: 0.1910 - val_acc: 0.7467\n",
      "Epoch 4/17\n",
      "53948/53948 [==============================] - 988s 18ms/step - loss: 0.2140 - acc: 0.6859 - val_loss: 0.1860 - val_acc: 0.7467\n",
      "Epoch 5/17\n",
      "53948/53948 [==============================] - 1010s 19ms/step - loss: 0.2121 - acc: 0.6833 - val_loss: 0.1859 - val_acc: 0.7467\n",
      "Epoch 6/17\n",
      "53948/53948 [==============================] - 1003s 19ms/step - loss: 0.2179 - acc: 0.6802 - val_loss: 0.1973 - val_acc: 0.7333\n",
      "Epoch 7/17\n",
      "53948/53948 [==============================] - 1010s 19ms/step - loss: 0.2177 - acc: 0.6805 - val_loss: 0.1971 - val_acc: 0.7333\n",
      "Epoch 8/17\n",
      "53948/53948 [==============================] - 1012s 19ms/step - loss: 0.2173 - acc: 0.6807 - val_loss: 0.1961 - val_acc: 0.7333\n",
      "Epoch 9/17\n",
      "53948/53948 [==============================] - 1002s 19ms/step - loss: 0.2173 - acc: 0.6809 - val_loss: 0.1959 - val_acc: 0.7333\n",
      "Epoch 10/17\n",
      "53948/53948 [==============================] - 999s 19ms/step - loss: 0.2170 - acc: 0.6810 - val_loss: 0.1974 - val_acc: 0.7333\n",
      "Epoch 11/17\n",
      "53948/53948 [==============================] - 998s 18ms/step - loss: 0.2174 - acc: 0.6798 - val_loss: 0.1967 - val_acc: 0.7333\n",
      "Epoch 12/17\n",
      "53948/53948 [==============================] - 995s 18ms/step - loss: 0.2175 - acc: 0.6802 - val_loss: 0.2002 - val_acc: 0.7333\n",
      "Epoch 13/17\n",
      "53948/53948 [==============================] - 998s 19ms/step - loss: 0.2151 - acc: 0.6830 - val_loss: 0.1885 - val_acc: 0.7333\n",
      "Epoch 14/17\n",
      "53948/53948 [==============================] - 1000s 19ms/step - loss: 0.2101 - acc: 0.6900 - val_loss: 0.1718 - val_acc: 0.7333\n",
      "Epoch 15/17\n",
      "53948/53948 [==============================] - 997s 18ms/step - loss: 0.1843 - acc: 0.7286 - val_loss: 0.1475 - val_acc: 0.8267\n",
      "Epoch 16/17\n",
      "53948/53948 [==============================] - 3205s 59ms/step - loss: 0.1578 - acc: 0.7756 - val_loss: 0.1258 - val_acc: 0.8267\n",
      "Epoch 17/17\n",
      "53948/53948 [==============================] - 24545s 455ms/step - loss: 0.1365 - acc: 0.8112 - val_loss: 0.1264 - val_acc: 0.8000\n"
     ]
    },
    {
     "data": {
      "text/plain": [
       "<keras.callbacks.History at 0x1a5161add8>"
      ]
     },
     "execution_count": 22,
     "metadata": {},
     "output_type": "execute_result"
    }
   ],
   "source": [
    "batch_size = 75\n",
    "num_epochs = 17\n",
    "\n",
    "X_valid, y_valid = X_train[:batch_size], y_train[:batch_size]\n",
    "X_train2, y_train2 = X_train[batch_size:], y_train[batch_size:]\n",
    "model.fit(X_train2, y_train2, validation_data=(X_valid, y_valid), batch_size=batch_size, epochs=num_epochs)"
   ]
  },
  {
   "cell_type": "code",
   "execution_count": 23,
   "metadata": {},
   "outputs": [
    {
     "name": "stdout",
     "output_type": "stream",
     "text": [
      "Test accuracy: 0.7701762179771953\n"
     ]
    }
   ],
   "source": [
    "scores = model.evaluate(X_test, y_test, verbose=0)\n",
    "print('Test accuracy:', scores[1])\n"
   ]
  },
  {
   "cell_type": "code",
   "execution_count": null,
   "metadata": {},
   "outputs": [],
   "source": [
    "#Stacked LSTM MODEL"
   ]
  },
  {
   "cell_type": "code",
   "execution_count": 30,
   "metadata": {},
   "outputs": [
    {
     "name": "stdout",
     "output_type": "stream",
     "text": [
      "_________________________________________________________________\n",
      "Layer (type)                 Output Shape              Param #   \n",
      "=================================================================\n",
      "embedding_1 (Embedding)      (None, 500, 100)          3835800   \n",
      "_________________________________________________________________\n",
      "lstm_23 (LSTM)               (None, 500, 100)          80400     \n",
      "_________________________________________________________________\n",
      "lstm_24 (LSTM)               (None, 500, 32)           17024     \n",
      "_________________________________________________________________\n",
      "lstm_25 (LSTM)               (None, 32)                8320      \n",
      "_________________________________________________________________\n",
      "dropout_4 (Dropout)          (None, 32)                0         \n",
      "_________________________________________________________________\n",
      "dense_4 (Dense)              (None, 1)                 33        \n",
      "=================================================================\n",
      "Total params: 3,941,577\n",
      "Trainable params: 3,941,577\n",
      "Non-trainable params: 0\n",
      "_________________________________________________________________\n",
      "None\n"
     ]
    }
   ],
   "source": [
    "from keras import Sequential\n",
    "from keras.layers import Embedding, LSTM, Dense, Dropout\n",
    "embedding_size=32\n",
    "model=Sequential()\n",
    "model.add(embedding_layer)\n",
    "# model.add(Embedding(5000, embedding_size, input_length=500))\n",
    "model.add(LSTM(100, return_sequences=True))\n",
    "model.add(LSTM(32, return_sequences=True))\n",
    "model.add(LSTM(32))\n",
    "\n",
    "model.add(Dropout(0.25))\n",
    "model.add(Dense(1, activation='sigmoid'))\n",
    "print(model.summary())"
   ]
  },
  {
   "cell_type": "code",
   "execution_count": 32,
   "metadata": {},
   "outputs": [],
   "source": [
    "model.compile(loss='mean_squared_error', \n",
    "             optimizer='adam', \n",
    "             metrics=['accuracy'])"
   ]
  },
  {
   "cell_type": "code",
   "execution_count": 33,
   "metadata": {},
   "outputs": [
    {
     "name": "stdout",
     "output_type": "stream",
     "text": [
      "Train on 53948 samples, validate on 75 samples\n",
      "Epoch 1/17\n",
      "53948/53948 [==============================] - 48644s 902ms/step - loss: 0.2196 - acc: 0.6774 - val_loss: 0.2038 - val_acc: 0.7200\n",
      "Epoch 2/17\n",
      "53948/53948 [==============================] - 1465s 27ms/step - loss: 0.2189 - acc: 0.6779 - val_loss: 0.2027 - val_acc: 0.7200\n",
      "Epoch 3/17\n",
      "53948/53948 [==============================] - 1891s 35ms/step - loss: 0.2173 - acc: 0.6797 - val_loss: 0.1956 - val_acc: 0.7333\n",
      "Epoch 4/17\n",
      "53948/53948 [==============================] - 1598s 30ms/step - loss: 0.2154 - acc: 0.6852 - val_loss: 0.2019 - val_acc: 0.7333\n",
      "Epoch 5/17\n",
      "53948/53948 [==============================] - 1702s 32ms/step - loss: 0.2170 - acc: 0.6819 - val_loss: 0.1976 - val_acc: 0.7333\n",
      "Epoch 6/17\n",
      "53948/53948 [==============================] - 6785s 126ms/step - loss: 0.1956 - acc: 0.7266 - val_loss: 0.1827 - val_acc: 0.7600\n",
      "Epoch 7/17\n",
      "53948/53948 [==============================] - 14966s 277ms/step - loss: 0.1823 - acc: 0.7591 - val_loss: 0.1954 - val_acc: 0.7333\n",
      "Epoch 8/17\n",
      "53948/53948 [==============================] - 1358s 25ms/step - loss: 0.2124 - acc: 0.6919 - val_loss: 0.1963 - val_acc: 0.7333\n",
      "Epoch 9/17\n",
      "53948/53948 [==============================] - 1380s 26ms/step - loss: 0.2083 - acc: 0.7022 - val_loss: 0.2021 - val_acc: 0.7200\n",
      "Epoch 10/17\n",
      "53948/53948 [==============================] - 1384s 26ms/step - loss: 0.2186 - acc: 0.6780 - val_loss: 0.2034 - val_acc: 0.7200\n",
      "Epoch 11/17\n",
      "53948/53948 [==============================] - 1385s 26ms/step - loss: 0.2183 - acc: 0.6780 - val_loss: 0.2032 - val_acc: 0.7200\n",
      "Epoch 12/17\n",
      "53948/53948 [==============================] - 1384s 26ms/step - loss: 0.2179 - acc: 0.6796 - val_loss: 0.1985 - val_acc: 0.7333\n",
      "Epoch 13/17\n",
      "53948/53948 [==============================] - 1385s 26ms/step - loss: 0.2175 - acc: 0.6802 - val_loss: 0.1975 - val_acc: 0.7333\n",
      "Epoch 14/17\n",
      "53948/53948 [==============================] - 1388s 26ms/step - loss: 0.2140 - acc: 0.6857 - val_loss: 0.2034 - val_acc: 0.7200\n",
      "Epoch 15/17\n",
      "53948/53948 [==============================] - 1386s 26ms/step - loss: 0.2150 - acc: 0.6817 - val_loss: 0.1663 - val_acc: 0.7600\n",
      "Epoch 16/17\n",
      "53948/53948 [==============================] - 1385s 26ms/step - loss: 0.1927 - acc: 0.7277 - val_loss: 0.1858 - val_acc: 0.7600\n",
      "Epoch 17/17\n",
      "53948/53948 [==============================] - 1388s 26ms/step - loss: 0.1937 - acc: 0.7010 - val_loss: 0.1600 - val_acc: 0.7867\n"
     ]
    },
    {
     "data": {
      "text/plain": [
       "<keras.callbacks.History at 0x1a58078da0>"
      ]
     },
     "execution_count": 33,
     "metadata": {},
     "output_type": "execute_result"
    }
   ],
   "source": [
    "batch_size = 75\n",
    "num_epochs = 34\n",
    "\n",
    "X_valid, y_valid = X_train[:batch_size], y_train[:batch_size]\n",
    "X_train2, y_train2 = X_train[batch_size:], y_train[batch_size:]\n",
    "model.fit(X_train2, y_train2, validation_data=(X_valid, y_valid), batch_size=batch_size, epochs=num_epochs)"
   ]
  },
  {
   "cell_type": "markdown",
   "metadata": {},
   "source": []
  },
  {
   "cell_type": "code",
   "execution_count": 34,
   "metadata": {},
   "outputs": [
    {
     "name": "stdout",
     "output_type": "stream",
     "text": [
      "Test accuracy: 0.7449281800681179\n"
     ]
    }
   ],
   "source": [
    "scores = model.evaluate(X_test, y_test, verbose=0)\n",
    "print('Test accuracy:', scores[1])\n"
   ]
  },
  {
   "cell_type": "code",
   "execution_count": 63,
   "metadata": {},
   "outputs": [],
   "source": [
    "#3rd Model with 3 LSTMS More Epochs and Keras Callback early stopping  - did not improve - too early\n",
    "# Note min delta .1 too early , changed to .6 to see if can improve - did not improve - too early\n",
    "# Note min delta .6 too early , changed to 5 to see if can improve - Did not improve - too early\n",
    "# Note min delta .6 too early , changed patience from 2 to 3.5 and kept min delta at .005\n"
   ]
  },
  {
   "cell_type": "code",
   "execution_count": 19,
   "metadata": {},
   "outputs": [
    {
     "name": "stdout",
     "output_type": "stream",
     "text": [
      "WARNING:tensorflow:From /anaconda3/lib/python3.7/site-packages/tensorflow/python/framework/op_def_library.py:263: colocate_with (from tensorflow.python.framework.ops) is deprecated and will be removed in a future version.\n",
      "Instructions for updating:\n",
      "Colocations handled automatically by placer.\n",
      "WARNING:tensorflow:From /anaconda3/lib/python3.7/site-packages/keras/backend/tensorflow_backend.py:3445: calling dropout (from tensorflow.python.ops.nn_ops) with keep_prob is deprecated and will be removed in a future version.\n",
      "Instructions for updating:\n",
      "Please use `rate` instead of `keep_prob`. Rate should be set to `rate = 1 - keep_prob`.\n",
      "_________________________________________________________________\n",
      "Layer (type)                 Output Shape              Param #   \n",
      "=================================================================\n",
      "embedding_1 (Embedding)      (None, 500, 100)          3835800   \n",
      "_________________________________________________________________\n",
      "lstm_1 (LSTM)                (None, 500, 100)          80400     \n",
      "_________________________________________________________________\n",
      "lstm_2 (LSTM)                (None, 500, 32)           17024     \n",
      "_________________________________________________________________\n",
      "lstm_3 (LSTM)                (None, 32)                8320      \n",
      "_________________________________________________________________\n",
      "dropout_1 (Dropout)          (None, 32)                0         \n",
      "_________________________________________________________________\n",
      "dense_1 (Dense)              (None, 1)                 33        \n",
      "=================================================================\n",
      "Total params: 3,941,577\n",
      "Trainable params: 3,941,577\n",
      "Non-trainable params: 0\n",
      "_________________________________________________________________\n",
      "None\n"
     ]
    }
   ],
   "source": [
    "from keras import Sequential, callbacks\n",
    "from keras.layers import Embedding, LSTM, Dense, Dropout\n",
    "es = [callbacks.EarlyStopping(monitor='val_loss', mode='min', verbose=1, patience=3.5, min_delta=.005)]\n",
    "embedding_size=32\n",
    "model=Sequential()\n",
    "model.add(embedding_layer)\n",
    "# model.add(Embedding(5000, embedding_size, input_length=500))\n",
    "model.add(LSTM(100, return_sequences=True))\n",
    "model.add(LSTM(32, return_sequences=True))\n",
    "model.add(LSTM(32))\n",
    "\n",
    "model.add(Dropout(0.25))\n",
    "model.add(Dense(1, activation='sigmoid'))\n",
    "print(model.summary())"
   ]
  },
  {
   "cell_type": "code",
   "execution_count": 20,
   "metadata": {},
   "outputs": [],
   "source": [
    "model.compile(loss='mean_squared_error', \n",
    "             optimizer='adam', \n",
    "             metrics=['accuracy'])"
   ]
  },
  {
   "cell_type": "code",
   "execution_count": 21,
   "metadata": {},
   "outputs": [
    {
     "name": "stdout",
     "output_type": "stream",
     "text": [
      "WARNING:tensorflow:From /anaconda3/lib/python3.7/site-packages/tensorflow/python/ops/math_ops.py:3066: to_int32 (from tensorflow.python.ops.math_ops) is deprecated and will be removed in a future version.\n",
      "Instructions for updating:\n",
      "Use tf.cast instead.\n",
      "Train on 53948 samples, validate on 75 samples\n",
      "Epoch 1/25\n",
      "53948/53948 [==============================] - 2263s 42ms/step - loss: 0.2189 - acc: 0.6796 - val_loss: 0.1998 - val_acc: 0.7333\n",
      "Epoch 2/25\n",
      "53948/53948 [==============================] - 2244s 42ms/step - loss: 0.2200 - acc: 0.6762 - val_loss: 0.2041 - val_acc: 0.7200\n",
      "Epoch 3/25\n",
      "53948/53948 [==============================] - 2217s 41ms/step - loss: 0.2188 - acc: 0.6779 - val_loss: 0.2056 - val_acc: 0.7200\n",
      "Epoch 4/25\n",
      "53948/53948 [==============================] - 2203s 41ms/step - loss: 0.2187 - acc: 0.6779 - val_loss: 0.2039 - val_acc: 0.7200\n",
      "Epoch 5/25\n",
      "53948/53948 [==============================] - 2240s 42ms/step - loss: 0.2187 - acc: 0.6779 - val_loss: 0.2027 - val_acc: 0.7200\n",
      "Epoch 00005: early stopping\n"
     ]
    },
    {
     "data": {
      "text/plain": [
       "<keras.callbacks.History at 0xb2d7ab080>"
      ]
     },
     "execution_count": 21,
     "metadata": {},
     "output_type": "execute_result"
    }
   ],
   "source": [
    "batch_size = 75\n",
    "num_epochs = 25\n",
    "\n",
    "X_valid, y_valid = X_train[:batch_size], y_train[:batch_size]\n",
    "X_train2, y_train2 = X_train[batch_size:], y_train[batch_size:]\n",
    "model.fit(X_train2, y_train2, validation_data=(X_valid, y_valid), batch_size=batch_size, epochs=num_epochs, callbacks=es)"
   ]
  },
  {
   "cell_type": "code",
   "execution_count": 22,
   "metadata": {},
   "outputs": [
    {
     "name": "stdout",
     "output_type": "stream",
     "text": [
      "Test accuracy: 0.6711831778468829\n"
     ]
    }
   ],
   "source": [
    "scores = model.evaluate(X_test, y_test, verbose=0)\n",
    "print('Test accuracy:', scores[1])\n"
   ]
  },
  {
   "cell_type": "code",
   "execution_count": null,
   "metadata": {},
   "outputs": [],
   "source": [
    "#New"
   ]
  },
  {
   "cell_type": "code",
   "execution_count": 19,
   "metadata": {},
   "outputs": [
    {
     "name": "stdout",
     "output_type": "stream",
     "text": [
      "WARNING:tensorflow:From /anaconda3/lib/python3.7/site-packages/tensorflow/python/framework/op_def_library.py:263: colocate_with (from tensorflow.python.framework.ops) is deprecated and will be removed in a future version.\n",
      "Instructions for updating:\n",
      "Colocations handled automatically by placer.\n",
      "WARNING:tensorflow:From /anaconda3/lib/python3.7/site-packages/keras/backend/tensorflow_backend.py:3445: calling dropout (from tensorflow.python.ops.nn_ops) with keep_prob is deprecated and will be removed in a future version.\n",
      "Instructions for updating:\n",
      "Please use `rate` instead of `keep_prob`. Rate should be set to `rate = 1 - keep_prob`.\n",
      "_________________________________________________________________\n",
      "Layer (type)                 Output Shape              Param #   \n",
      "=================================================================\n",
      "embedding_1 (Embedding)      (None, 500, 100)          3835800   \n",
      "_________________________________________________________________\n",
      "lstm_1 (LSTM)                (None, 500, 100)          80400     \n",
      "_________________________________________________________________\n",
      "lstm_2 (LSTM)                (None, 500, 32)           17024     \n",
      "_________________________________________________________________\n",
      "lstm_3 (LSTM)                (None, 32)                8320      \n",
      "_________________________________________________________________\n",
      "dropout_1 (Dropout)          (None, 32)                0         \n",
      "_________________________________________________________________\n",
      "dense_1 (Dense)              (None, 1)                 33        \n",
      "=================================================================\n",
      "Total params: 3,941,577\n",
      "Trainable params: 3,941,577\n",
      "Non-trainable params: 0\n",
      "_________________________________________________________________\n",
      "None\n"
     ]
    }
   ],
   "source": [
    "from keras import Sequential, callbacks\n",
    "from keras.layers import Embedding, LSTM, Dense, Dropout\n",
    "es = [callbacks.EarlyStopping(monitor='val_loss', mode='min', verbose=1, patience=3.2, min_delta=.01)]\n",
    "embedding_size=32\n",
    "model=Sequential()\n",
    "model.add(embedding_layer)\n",
    "# model.add(Embedding(5000, embedding_size, input_length=500))\n",
    "model.add(LSTM(100, return_sequences=True))\n",
    "model.add(LSTM(32, return_sequences=True))\n",
    "model.add(LSTM(32))\n",
    "\n",
    "model.add(Dropout(0.25))\n",
    "model.add(Dense(1, activation='sigmoid'))\n",
    "print(model.summary())"
   ]
  },
  {
   "cell_type": "code",
   "execution_count": 20,
   "metadata": {},
   "outputs": [],
   "source": [
    "model.compile(loss='mean_squared_error', \n",
    "             optimizer='adam', \n",
    "             metrics=['accuracy'])"
   ]
  },
  {
   "cell_type": "code",
   "execution_count": null,
   "metadata": {},
   "outputs": [
    {
     "name": "stdout",
     "output_type": "stream",
     "text": [
      "WARNING:tensorflow:From /anaconda3/lib/python3.7/site-packages/tensorflow/python/ops/math_ops.py:3066: to_int32 (from tensorflow.python.ops.math_ops) is deprecated and will be removed in a future version.\n",
      "Instructions for updating:\n",
      "Use tf.cast instead.\n",
      "Train on 53948 samples, validate on 75 samples\n",
      "Epoch 1/25\n",
      "53948/53948 [==============================] - 1458s 27ms/step - loss: 0.2188 - acc: 0.6796 - val_loss: 0.1990 - val_acc: 0.7333\n",
      "Epoch 2/25\n",
      "53948/53948 [==============================] - 1455s 27ms/step - loss: 0.2182 - acc: 0.6802 - val_loss: 0.1973 - val_acc: 0.7333\n",
      "Epoch 3/25\n",
      "53948/53948 [==============================] - 1782s 33ms/step - loss: 0.2180 - acc: 0.6802 - val_loss: 0.1982 - val_acc: 0.7333\n",
      "Epoch 4/25\n",
      "14325/53948 [======>.......................] - ETA: 17:49 - loss: 0.2165 - acc: 0.6840"
     ]
    }
   ],
   "source": [
    "batch_size = 75\n",
    "num_epochs = 25\n",
    "\n",
    "X_valid, y_valid = X_train[:batch_size], y_train[:batch_size]\n",
    "X_train2, y_train2 = X_train[batch_size:], y_train[batch_size:]\n",
    "model.fit(X_train2, y_train2, validation_data=(X_valid, y_valid), batch_size=batch_size, epochs=num_epochs, callbacks=es)"
   ]
  },
  {
   "cell_type": "raw",
   "metadata": {},
   "source": [
    "scores = model.evaluate(X_test, y_test, verbose=0)                                                                                   \n",
    "print('Test accuracy:', scores[1])\n"
   ]
  },
  {
   "cell_type": "code",
   "execution_count": null,
   "metadata": {},
   "outputs": [],
   "source": []
  }
 ],
 "metadata": {
  "kernelspec": {
   "display_name": "Python 3",
   "language": "python",
   "name": "python3"
  },
  "language_info": {
   "codemirror_mode": {
    "name": "ipython",
    "version": 3
   },
   "file_extension": ".py",
   "mimetype": "text/x-python",
   "name": "python",
   "nbconvert_exporter": "python",
   "pygments_lexer": "ipython3",
   "version": "3.7.1"
  }
 },
 "nbformat": 4,
 "nbformat_minor": 2
}
